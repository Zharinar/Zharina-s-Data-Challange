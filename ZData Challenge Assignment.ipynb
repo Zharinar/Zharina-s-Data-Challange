{
 "cells": [
  {
   "cell_type": "code",
   "execution_count": 17,
   "id": "60c24a17",
   "metadata": {},
   "outputs": [],
   "source": [
    "import pandas as pd\n",
    "import numpy as np\n",
    "import matplotlib.pyplot as plt \n",
    "import seaborn as sns \n",
    "from datetime import date\n",
    "from datetime import timedelta"
   ]
  },
  {
   "cell_type": "code",
   "execution_count": 18,
   "id": "bf34e56f",
   "metadata": {},
   "outputs": [],
   "source": [
    "Grades = pd.read_csv(r\"Desktop/grades.csv\")"
   ]
  },
  {
   "cell_type": "markdown",
   "id": "a9cce074",
   "metadata": {},
   "source": [
    "# DESCRIPTIVE STATS AND CLEANING THE DATA"
   ]
  },
  {
   "cell_type": "code",
   "execution_count": 19,
   "id": "28504c6e",
   "metadata": {},
   "outputs": [
    {
     "data": {
      "text/html": [
       "<div>\n",
       "<style scoped>\n",
       "    .dataframe tbody tr th:only-of-type {\n",
       "        vertical-align: middle;\n",
       "    }\n",
       "\n",
       "    .dataframe tbody tr th {\n",
       "        vertical-align: top;\n",
       "    }\n",
       "\n",
       "    .dataframe thead th {\n",
       "        text-align: right;\n",
       "    }\n",
       "</style>\n",
       "<table border=\"1\" class=\"dataframe\">\n",
       "  <thead>\n",
       "    <tr style=\"text-align: right;\">\n",
       "      <th></th>\n",
       "      <th>LICENSENO</th>\n",
       "      <th>ISSDTTM</th>\n",
       "      <th>EXPDTTM</th>\n",
       "      <th>LICSTATUS</th>\n",
       "      <th>LICENSECAT</th>\n",
       "      <th>DESCRIPT</th>\n",
       "      <th>RESULT</th>\n",
       "      <th>RESULTDTTM</th>\n",
       "      <th>SUM_VIOLATIONS</th>\n",
       "      <th>SCORE</th>\n",
       "      <th>GRADE</th>\n",
       "    </tr>\n",
       "  </thead>\n",
       "  <tbody>\n",
       "    <tr>\n",
       "      <th>0</th>\n",
       "      <td>77958</td>\n",
       "      <td>3/14/2012 9:17</td>\n",
       "      <td>12/31/2012 23:59</td>\n",
       "      <td>Inactive</td>\n",
       "      <td>FT</td>\n",
       "      <td>Eating &amp; Drinking w/ Take Out</td>\n",
       "      <td>HE_Pass</td>\n",
       "      <td>1/3/2012 7:26</td>\n",
       "      <td>0</td>\n",
       "      <td>100</td>\n",
       "      <td>A</td>\n",
       "    </tr>\n",
       "    <tr>\n",
       "      <th>1</th>\n",
       "      <td>74470</td>\n",
       "      <td>2/1/2012 12:29</td>\n",
       "      <td>12/31/2018 23:59</td>\n",
       "      <td>Active</td>\n",
       "      <td>FS</td>\n",
       "      <td>Eating &amp; Drinking</td>\n",
       "      <td>HE_Filed</td>\n",
       "      <td>1/3/2012 9:42</td>\n",
       "      <td>6</td>\n",
       "      <td>94</td>\n",
       "      <td>A</td>\n",
       "    </tr>\n",
       "    <tr>\n",
       "      <th>2</th>\n",
       "      <td>18086</td>\n",
       "      <td>12/27/2011 12:46</td>\n",
       "      <td>12/31/2011 23:59</td>\n",
       "      <td>Inactive</td>\n",
       "      <td>RF</td>\n",
       "      <td>Retail Food</td>\n",
       "      <td>HE_Fail</td>\n",
       "      <td>1/3/2012 10:06</td>\n",
       "      <td>6</td>\n",
       "      <td>94</td>\n",
       "      <td>A</td>\n",
       "    </tr>\n",
       "    <tr>\n",
       "      <th>3</th>\n",
       "      <td>77035</td>\n",
       "      <td>1/26/2012 11:01</td>\n",
       "      <td>12/31/2018 23:59</td>\n",
       "      <td>Active</td>\n",
       "      <td>RF</td>\n",
       "      <td>Retail Food</td>\n",
       "      <td>HE_FailExt</td>\n",
       "      <td>1/3/2012 10:07</td>\n",
       "      <td>12</td>\n",
       "      <td>88</td>\n",
       "      <td>B</td>\n",
       "    </tr>\n",
       "    <tr>\n",
       "      <th>4</th>\n",
       "      <td>20285</td>\n",
       "      <td>2/24/2012 14:46</td>\n",
       "      <td>12/31/2018 23:59</td>\n",
       "      <td>Active</td>\n",
       "      <td>FS</td>\n",
       "      <td>Eating &amp; Drinking</td>\n",
       "      <td>HE_Filed</td>\n",
       "      <td>1/3/2012 10:32</td>\n",
       "      <td>2</td>\n",
       "      <td>98</td>\n",
       "      <td>A</td>\n",
       "    </tr>\n",
       "    <tr>\n",
       "      <th>5</th>\n",
       "      <td>18111</td>\n",
       "      <td>5/11/2012 10:10</td>\n",
       "      <td>12/31/2012 23:59</td>\n",
       "      <td>Inactive</td>\n",
       "      <td>RF</td>\n",
       "      <td>Retail Food</td>\n",
       "      <td>HE_Filed</td>\n",
       "      <td>1/3/2012 10:37</td>\n",
       "      <td>2</td>\n",
       "      <td>98</td>\n",
       "      <td>A</td>\n",
       "    </tr>\n",
       "    <tr>\n",
       "      <th>6</th>\n",
       "      <td>76109</td>\n",
       "      <td>7/19/2012 12:58</td>\n",
       "      <td>12/31/2018 23:59</td>\n",
       "      <td>Active</td>\n",
       "      <td>RF</td>\n",
       "      <td>Retail Food</td>\n",
       "      <td>HE_Fail</td>\n",
       "      <td>1/3/2012 10:44</td>\n",
       "      <td>16</td>\n",
       "      <td>84</td>\n",
       "      <td>B</td>\n",
       "    </tr>\n",
       "    <tr>\n",
       "      <th>7</th>\n",
       "      <td>18870</td>\n",
       "      <td>3/15/2012 10:19</td>\n",
       "      <td>12/31/2018 23:59</td>\n",
       "      <td>Active</td>\n",
       "      <td>FT</td>\n",
       "      <td>Eating &amp; Drinking w/ Take Out</td>\n",
       "      <td>HE_Pass</td>\n",
       "      <td>1/3/2012 10:46</td>\n",
       "      <td>0</td>\n",
       "      <td>100</td>\n",
       "      <td>A</td>\n",
       "    </tr>\n",
       "    <tr>\n",
       "      <th>8</th>\n",
       "      <td>25877</td>\n",
       "      <td>1/3/2012 14:09</td>\n",
       "      <td>12/31/2018 23:59</td>\n",
       "      <td>Active</td>\n",
       "      <td>FS</td>\n",
       "      <td>Eating &amp; Drinking</td>\n",
       "      <td>HE_Fail</td>\n",
       "      <td>1/3/2012 10:47</td>\n",
       "      <td>32</td>\n",
       "      <td>68</td>\n",
       "      <td>C</td>\n",
       "    </tr>\n",
       "    <tr>\n",
       "      <th>9</th>\n",
       "      <td>19921</td>\n",
       "      <td>3/6/2012 9:35</td>\n",
       "      <td>12/31/2018 23:59</td>\n",
       "      <td>Active</td>\n",
       "      <td>FT</td>\n",
       "      <td>Eating &amp; Drinking w/ Take Out</td>\n",
       "      <td>HE_Filed</td>\n",
       "      <td>1/3/2012 10:48</td>\n",
       "      <td>4</td>\n",
       "      <td>96</td>\n",
       "      <td>A</td>\n",
       "    </tr>\n",
       "  </tbody>\n",
       "</table>\n",
       "</div>"
      ],
      "text/plain": [
       "   LICENSENO           ISSDTTM           EXPDTTM LICSTATUS LICENSECAT  \\\n",
       "0      77958    3/14/2012 9:17  12/31/2012 23:59  Inactive         FT   \n",
       "1      74470    2/1/2012 12:29  12/31/2018 23:59    Active         FS   \n",
       "2      18086  12/27/2011 12:46  12/31/2011 23:59  Inactive         RF   \n",
       "3      77035   1/26/2012 11:01  12/31/2018 23:59    Active         RF   \n",
       "4      20285   2/24/2012 14:46  12/31/2018 23:59    Active         FS   \n",
       "5      18111   5/11/2012 10:10  12/31/2012 23:59  Inactive         RF   \n",
       "6      76109   7/19/2012 12:58  12/31/2018 23:59    Active         RF   \n",
       "7      18870   3/15/2012 10:19  12/31/2018 23:59    Active         FT   \n",
       "8      25877    1/3/2012 14:09  12/31/2018 23:59    Active         FS   \n",
       "9      19921     3/6/2012 9:35  12/31/2018 23:59    Active         FT   \n",
       "\n",
       "                        DESCRIPT      RESULT      RESULTDTTM  SUM_VIOLATIONS  \\\n",
       "0  Eating & Drinking w/ Take Out     HE_Pass   1/3/2012 7:26               0   \n",
       "1              Eating & Drinking    HE_Filed   1/3/2012 9:42               6   \n",
       "2                    Retail Food     HE_Fail  1/3/2012 10:06               6   \n",
       "3                    Retail Food  HE_FailExt  1/3/2012 10:07              12   \n",
       "4              Eating & Drinking    HE_Filed  1/3/2012 10:32               2   \n",
       "5                    Retail Food    HE_Filed  1/3/2012 10:37               2   \n",
       "6                    Retail Food     HE_Fail  1/3/2012 10:44              16   \n",
       "7  Eating & Drinking w/ Take Out     HE_Pass  1/3/2012 10:46               0   \n",
       "8              Eating & Drinking     HE_Fail  1/3/2012 10:47              32   \n",
       "9  Eating & Drinking w/ Take Out    HE_Filed  1/3/2012 10:48               4   \n",
       "\n",
       "   SCORE GRADE  \n",
       "0    100     A  \n",
       "1     94     A  \n",
       "2     94     A  \n",
       "3     88     B  \n",
       "4     98     A  \n",
       "5     98     A  \n",
       "6     84     B  \n",
       "7    100     A  \n",
       "8     68     C  \n",
       "9     96     A  "
      ]
     },
     "execution_count": 19,
     "metadata": {},
     "output_type": "execute_result"
    }
   ],
   "source": [
    "Grades.head(10)"
   ]
  },
  {
   "cell_type": "code",
   "execution_count": 20,
   "id": "d4943b4c",
   "metadata": {},
   "outputs": [],
   "source": [
    "Grades.dropna(inplace=True)"
   ]
  },
  {
   "cell_type": "code",
   "execution_count": 21,
   "id": "87191c76",
   "metadata": {},
   "outputs": [
    {
     "data": {
      "text/html": [
       "<div>\n",
       "<style scoped>\n",
       "    .dataframe tbody tr th:only-of-type {\n",
       "        vertical-align: middle;\n",
       "    }\n",
       "\n",
       "    .dataframe tbody tr th {\n",
       "        vertical-align: top;\n",
       "    }\n",
       "\n",
       "    .dataframe thead th {\n",
       "        text-align: right;\n",
       "    }\n",
       "</style>\n",
       "<table border=\"1\" class=\"dataframe\">\n",
       "  <thead>\n",
       "    <tr style=\"text-align: right;\">\n",
       "      <th></th>\n",
       "      <th>LICENSENO</th>\n",
       "      <th>SUM_VIOLATIONS</th>\n",
       "      <th>SCORE</th>\n",
       "    </tr>\n",
       "  </thead>\n",
       "  <tbody>\n",
       "    <tr>\n",
       "      <th>count</th>\n",
       "      <td>72243.000000</td>\n",
       "      <td>72243.000000</td>\n",
       "      <td>72243.000000</td>\n",
       "    </tr>\n",
       "    <tr>\n",
       "      <th>mean</th>\n",
       "      <td>58498.182108</td>\n",
       "      <td>8.642346</td>\n",
       "      <td>91.357654</td>\n",
       "    </tr>\n",
       "    <tr>\n",
       "      <th>std</th>\n",
       "      <td>59463.612719</td>\n",
       "      <td>15.921356</td>\n",
       "      <td>15.921356</td>\n",
       "    </tr>\n",
       "    <tr>\n",
       "      <th>min</th>\n",
       "      <td>54.000000</td>\n",
       "      <td>0.000000</td>\n",
       "      <td>-147.000000</td>\n",
       "    </tr>\n",
       "    <tr>\n",
       "      <th>25%</th>\n",
       "      <td>22112.000000</td>\n",
       "      <td>0.000000</td>\n",
       "      <td>88.000000</td>\n",
       "    </tr>\n",
       "    <tr>\n",
       "      <th>50%</th>\n",
       "      <td>28452.000000</td>\n",
       "      <td>0.000000</td>\n",
       "      <td>100.000000</td>\n",
       "    </tr>\n",
       "    <tr>\n",
       "      <th>75%</th>\n",
       "      <td>78079.000000</td>\n",
       "      <td>12.000000</td>\n",
       "      <td>100.000000</td>\n",
       "    </tr>\n",
       "    <tr>\n",
       "      <th>max</th>\n",
       "      <td>367152.000000</td>\n",
       "      <td>247.000000</td>\n",
       "      <td>100.000000</td>\n",
       "    </tr>\n",
       "  </tbody>\n",
       "</table>\n",
       "</div>"
      ],
      "text/plain": [
       "           LICENSENO  SUM_VIOLATIONS         SCORE\n",
       "count   72243.000000    72243.000000  72243.000000\n",
       "mean    58498.182108        8.642346     91.357654\n",
       "std     59463.612719       15.921356     15.921356\n",
       "min        54.000000        0.000000   -147.000000\n",
       "25%     22112.000000        0.000000     88.000000\n",
       "50%     28452.000000        0.000000    100.000000\n",
       "75%     78079.000000       12.000000    100.000000\n",
       "max    367152.000000      247.000000    100.000000"
      ]
     },
     "execution_count": 21,
     "metadata": {},
     "output_type": "execute_result"
    }
   ],
   "source": [
    "Grades.describe()"
   ]
  },
  {
   "cell_type": "markdown",
   "id": "5b8b8498",
   "metadata": {},
   "source": [
    "# CREATING A GRAPH THAT SHOWS TIME BETWEEN INSPECTIONS"
   ]
  },
  {
   "cell_type": "code",
   "execution_count": 22,
   "id": "b6a30bcb",
   "metadata": {},
   "outputs": [
    {
     "name": "stdout",
     "output_type": "stream",
     "text": [
      "<class 'pandas.core.frame.DataFrame'>\n",
      "Int64Index: 72243 entries, 0 to 72242\n",
      "Data columns (total 11 columns):\n",
      " #   Column          Non-Null Count  Dtype \n",
      "---  ------          --------------  ----- \n",
      " 0   LICENSENO       72243 non-null  int64 \n",
      " 1   ISSDTTM         72243 non-null  object\n",
      " 2   EXPDTTM         72243 non-null  object\n",
      " 3   LICSTATUS       72243 non-null  object\n",
      " 4   LICENSECAT      72243 non-null  object\n",
      " 5   DESCRIPT        72243 non-null  object\n",
      " 6   RESULT          72243 non-null  object\n",
      " 7   RESULTDTTM      72243 non-null  object\n",
      " 8   SUM_VIOLATIONS  72243 non-null  int64 \n",
      " 9   SCORE           72243 non-null  int64 \n",
      " 10  GRADE           72243 non-null  object\n",
      "dtypes: int64(3), object(8)\n",
      "memory usage: 6.6+ MB\n"
     ]
    }
   ],
   "source": [
    "Grades.info()"
   ]
  },
  {
   "cell_type": "code",
   "execution_count": 23,
   "id": "e5f34c6c",
   "metadata": {},
   "outputs": [
    {
     "name": "stdout",
     "output_type": "stream",
     "text": [
      "<class 'pandas.core.frame.DataFrame'>\n",
      "Int64Index: 72243 entries, 0 to 72242\n",
      "Data columns (total 11 columns):\n",
      " #   Column          Non-Null Count  Dtype         \n",
      "---  ------          --------------  -----         \n",
      " 0   LICENSENO       72243 non-null  int64         \n",
      " 1   ISSDTTM         72243 non-null  object        \n",
      " 2   EXPDTTM         72243 non-null  object        \n",
      " 3   LICSTATUS       72243 non-null  object        \n",
      " 4   LICENSECAT      72243 non-null  object        \n",
      " 5   DESCRIPT        72243 non-null  object        \n",
      " 6   RESULT          72243 non-null  object        \n",
      " 7   RESULTDTTM      72243 non-null  datetime64[ns]\n",
      " 8   SUM_VIOLATIONS  72243 non-null  int64         \n",
      " 9   SCORE           72243 non-null  int64         \n",
      " 10  GRADE           72243 non-null  object        \n",
      "dtypes: datetime64[ns](1), int64(3), object(7)\n",
      "memory usage: 6.6+ MB\n"
     ]
    }
   ],
   "source": [
    "## I am going to change 'RESULTDTTM' to DateTime.\n",
    "Grades['RESULTDTTM']=pd.to_datetime(Grades['RESULTDTTM'], infer_datetime_format=True)\n",
    "Grades.info()"
   ]
  },
  {
   "cell_type": "code",
   "execution_count": 24,
   "id": "6c309506",
   "metadata": {},
   "outputs": [],
   "source": [
    "Grades['time_between_inspections'] = Grades.groupby('LICENSENO')['RESULTDTTM'].diff()\n"
   ]
  },
  {
   "cell_type": "code",
   "execution_count": 25,
   "id": "1e7bd33d",
   "metadata": {},
   "outputs": [],
   "source": [
    "Grades2 = pd.DataFrame(Grades, columns= ['LICENSENO','RESULTDTTM', 'time_between_inspections'])"
   ]
  },
  {
   "cell_type": "code",
   "execution_count": 26,
   "id": "d1ae8415",
   "metadata": {},
   "outputs": [],
   "source": [
    "Grades2[\"time_between_inspections\"] = Grades2[\"time_between_inspections\"].dt.days"
   ]
  },
  {
   "cell_type": "code",
   "execution_count": 27,
   "id": "e2f0039c",
   "metadata": {},
   "outputs": [],
   "source": [
    "pd.set_option('display.max_rows', None)"
   ]
  },
  {
   "cell_type": "code",
   "execution_count": 28,
   "id": "a38b0965",
   "metadata": {},
   "outputs": [
    {
     "data": {
      "text/html": [
       "<div>\n",
       "<style scoped>\n",
       "    .dataframe tbody tr th:only-of-type {\n",
       "        vertical-align: middle;\n",
       "    }\n",
       "\n",
       "    .dataframe tbody tr th {\n",
       "        vertical-align: top;\n",
       "    }\n",
       "\n",
       "    .dataframe thead th {\n",
       "        text-align: right;\n",
       "    }\n",
       "</style>\n",
       "<table border=\"1\" class=\"dataframe\">\n",
       "  <thead>\n",
       "    <tr style=\"text-align: right;\">\n",
       "      <th></th>\n",
       "      <th>LICENSENO</th>\n",
       "      <th>RESULTDTTM</th>\n",
       "      <th>time_between_inspections</th>\n",
       "    </tr>\n",
       "  </thead>\n",
       "  <tbody>\n",
       "    <tr>\n",
       "      <th>10164</th>\n",
       "      <td>54</td>\n",
       "      <td>2012-12-30 00:00:00</td>\n",
       "      <td>NaN</td>\n",
       "    </tr>\n",
       "    <tr>\n",
       "      <th>10165</th>\n",
       "      <td>4032</td>\n",
       "      <td>2012-12-30 00:00:00</td>\n",
       "      <td>NaN</td>\n",
       "    </tr>\n",
       "    <tr>\n",
       "      <th>379</th>\n",
       "      <td>4036</td>\n",
       "      <td>2012-01-13 13:15:00</td>\n",
       "      <td>NaN</td>\n",
       "    </tr>\n",
       "    <tr>\n",
       "      <th>5741</th>\n",
       "      <td>4036</td>\n",
       "      <td>2012-07-20 12:47:00</td>\n",
       "      <td>188.0</td>\n",
       "    </tr>\n",
       "    <tr>\n",
       "      <th>9596</th>\n",
       "      <td>4036</td>\n",
       "      <td>2012-12-03 13:08:00</td>\n",
       "      <td>136.0</td>\n",
       "    </tr>\n",
       "    <tr>\n",
       "      <th>18896</th>\n",
       "      <td>4036</td>\n",
       "      <td>2013-05-30 10:34:00</td>\n",
       "      <td>177.0</td>\n",
       "    </tr>\n",
       "    <tr>\n",
       "      <th>19367</th>\n",
       "      <td>4036</td>\n",
       "      <td>2013-06-18 10:52:00</td>\n",
       "      <td>19.0</td>\n",
       "    </tr>\n",
       "    <tr>\n",
       "      <th>19506</th>\n",
       "      <td>4036</td>\n",
       "      <td>2013-06-21 11:28:00</td>\n",
       "      <td>3.0</td>\n",
       "    </tr>\n",
       "    <tr>\n",
       "      <th>29957</th>\n",
       "      <td>4036</td>\n",
       "      <td>2014-05-19 10:33:00</td>\n",
       "      <td>331.0</td>\n",
       "    </tr>\n",
       "    <tr>\n",
       "      <th>40961</th>\n",
       "      <td>4036</td>\n",
       "      <td>2015-07-28 14:17:00</td>\n",
       "      <td>435.0</td>\n",
       "    </tr>\n",
       "  </tbody>\n",
       "</table>\n",
       "</div>"
      ],
      "text/plain": [
       "       LICENSENO          RESULTDTTM  time_between_inspections\n",
       "10164         54 2012-12-30 00:00:00                       NaN\n",
       "10165       4032 2012-12-30 00:00:00                       NaN\n",
       "379         4036 2012-01-13 13:15:00                       NaN\n",
       "5741        4036 2012-07-20 12:47:00                     188.0\n",
       "9596        4036 2012-12-03 13:08:00                     136.0\n",
       "18896       4036 2013-05-30 10:34:00                     177.0\n",
       "19367       4036 2013-06-18 10:52:00                      19.0\n",
       "19506       4036 2013-06-21 11:28:00                       3.0\n",
       "29957       4036 2014-05-19 10:33:00                     331.0\n",
       "40961       4036 2015-07-28 14:17:00                     435.0"
      ]
     },
     "execution_count": 28,
     "metadata": {},
     "output_type": "execute_result"
    }
   ],
   "source": [
    "Grades2.sort_values(by= ['LICENSENO', 'RESULTDTTM'])[:10]"
   ]
  },
  {
   "cell_type": "code",
   "execution_count": 29,
   "id": "a27cc6e3",
   "metadata": {},
   "outputs": [
    {
     "name": "stdout",
     "output_type": "stream",
     "text": [
      "<class 'pandas.core.frame.DataFrame'>\n",
      "Int64Index: 72243 entries, 0 to 72242\n",
      "Data columns (total 3 columns):\n",
      " #   Column                    Non-Null Count  Dtype         \n",
      "---  ------                    --------------  -----         \n",
      " 0   LICENSENO                 72243 non-null  int64         \n",
      " 1   RESULTDTTM                72243 non-null  datetime64[ns]\n",
      " 2   time_between_inspections  64685 non-null  float64       \n",
      "dtypes: datetime64[ns](1), float64(1), int64(1)\n",
      "memory usage: 2.2 MB\n"
     ]
    }
   ],
   "source": [
    "Grades2.info()"
   ]
  },
  {
   "cell_type": "code",
   "execution_count": 30,
   "id": "e6593ee5",
   "metadata": {},
   "outputs": [
    {
     "data": {
      "text/plain": [
       "(0.0, 1000.0)"
      ]
     },
     "execution_count": 30,
     "metadata": {},
     "output_type": "execute_result"
    },
    {
     "data": {
      "image/png": "[encoded data removed]",
      "text/plain": [
       "<Figure size 432x288 with 1 Axes>"
      ]
     },
     "metadata": {
      "needs_background": "light"
     },
     "output_type": "display_data"
    }
   ],
   "source": [
    "#GRAPH THE NUMBER OF DAYS BETWEEN INSPECTIONS. \n",
    "#MOST RESTAURANT RE-INSPECTIONS HAPPEN WITHIN 200 DAYS OF THE FIRST INSPECTION\n",
    "plt.hist(Grades2['time_between_inspections'], bins = 10);\n",
    "plt.title('Date Gap')\n",
    "plt.xlabel('Days between inspections')\n",
    "plt.ylabel('Inspections')\n",
    "plt.xlim((0,1000))"
   ]
  },
  {
   "cell_type": "markdown",
   "id": "475fe6ea",
   "metadata": {},
   "source": [
    "# LOOKING MORE CLOSELY AT THE DATA TO FIND TRENDS"
   ]
  },
  {
   "cell_type": "code",
   "execution_count": 31,
   "id": "7e481981",
   "metadata": {},
   "outputs": [],
   "source": [
    "Cat_grade = pd.DataFrame(Grades, columns=['DESCRIPT', 'GRADE', 'SCORE'])"
   ]
  },
  {
   "cell_type": "code",
   "execution_count": 32,
   "id": "5cdf4b58",
   "metadata": {},
   "outputs": [
    {
     "data": {
      "text/html": [
       "<div>\n",
       "<style scoped>\n",
       "    .dataframe tbody tr th:only-of-type {\n",
       "        vertical-align: middle;\n",
       "    }\n",
       "\n",
       "    .dataframe tbody tr th {\n",
       "        vertical-align: top;\n",
       "    }\n",
       "\n",
       "    .dataframe thead th {\n",
       "        text-align: right;\n",
       "    }\n",
       "</style>\n",
       "<table border=\"1\" class=\"dataframe\">\n",
       "  <thead>\n",
       "    <tr style=\"text-align: right;\">\n",
       "      <th></th>\n",
       "      <th>DESCRIPT</th>\n",
       "      <th>GRADE</th>\n",
       "      <th>SCORE</th>\n",
       "    </tr>\n",
       "  </thead>\n",
       "  <tbody>\n",
       "    <tr>\n",
       "      <th>0</th>\n",
       "      <td>Eating &amp; Drinking w/ Take Out</td>\n",
       "      <td>A</td>\n",
       "      <td>100</td>\n",
       "    </tr>\n",
       "    <tr>\n",
       "      <th>1</th>\n",
       "      <td>Eating &amp; Drinking</td>\n",
       "      <td>A</td>\n",
       "      <td>94</td>\n",
       "    </tr>\n",
       "    <tr>\n",
       "      <th>2</th>\n",
       "      <td>Retail Food</td>\n",
       "      <td>A</td>\n",
       "      <td>94</td>\n",
       "    </tr>\n",
       "    <tr>\n",
       "      <th>3</th>\n",
       "      <td>Retail Food</td>\n",
       "      <td>B</td>\n",
       "      <td>88</td>\n",
       "    </tr>\n",
       "    <tr>\n",
       "      <th>4</th>\n",
       "      <td>Eating &amp; Drinking</td>\n",
       "      <td>A</td>\n",
       "      <td>98</td>\n",
       "    </tr>\n",
       "    <tr>\n",
       "      <th>5</th>\n",
       "      <td>Retail Food</td>\n",
       "      <td>A</td>\n",
       "      <td>98</td>\n",
       "    </tr>\n",
       "    <tr>\n",
       "      <th>6</th>\n",
       "      <td>Retail Food</td>\n",
       "      <td>B</td>\n",
       "      <td>84</td>\n",
       "    </tr>\n",
       "    <tr>\n",
       "      <th>7</th>\n",
       "      <td>Eating &amp; Drinking w/ Take Out</td>\n",
       "      <td>A</td>\n",
       "      <td>100</td>\n",
       "    </tr>\n",
       "    <tr>\n",
       "      <th>8</th>\n",
       "      <td>Eating &amp; Drinking</td>\n",
       "      <td>C</td>\n",
       "      <td>68</td>\n",
       "    </tr>\n",
       "    <tr>\n",
       "      <th>9</th>\n",
       "      <td>Eating &amp; Drinking w/ Take Out</td>\n",
       "      <td>A</td>\n",
       "      <td>96</td>\n",
       "    </tr>\n",
       "  </tbody>\n",
       "</table>\n",
       "</div>"
      ],
      "text/plain": [
       "                        DESCRIPT GRADE  SCORE\n",
       "0  Eating & Drinking w/ Take Out     A    100\n",
       "1              Eating & Drinking     A     94\n",
       "2                    Retail Food     A     94\n",
       "3                    Retail Food     B     88\n",
       "4              Eating & Drinking     A     98\n",
       "5                    Retail Food     A     98\n",
       "6                    Retail Food     B     84\n",
       "7  Eating & Drinking w/ Take Out     A    100\n",
       "8              Eating & Drinking     C     68\n",
       "9  Eating & Drinking w/ Take Out     A     96"
      ]
     },
     "execution_count": 32,
     "metadata": {},
     "output_type": "execute_result"
    }
   ],
   "source": [
    "Cat_grade.head(10)"
   ]
  },
  {
   "cell_type": "code",
   "execution_count": 33,
   "id": "da230fc3",
   "metadata": {},
   "outputs": [
    {
     "data": {
      "text/plain": [
       "Eating & Drinking                30780\n",
       "Eating & Drinking w/ Take Out    26971\n",
       "Retail Food                      13091\n",
       "Mobile Food Walk On               1401\n",
       "Name: DESCRIPT, dtype: int64"
      ]
     },
     "execution_count": 33,
     "metadata": {},
     "output_type": "execute_result"
    }
   ],
   "source": [
    "Cat_grade.DESCRIPT.value_counts()\n",
    "#EATING AND DRINKING HAD THE MOST INSPECTIONS"
   ]
  },
  {
   "cell_type": "code",
   "execution_count": 34,
   "id": "6d500979",
   "metadata": {
    "scrolled": true
   },
   "outputs": [
    {
     "data": {
      "image/png": "[encoded data removed]",
      "text/plain": [
       "<Figure size 1080x360 with 1 Axes>"
      ]
     },
     "metadata": {
      "needs_background": "light"
     },
     "output_type": "display_data"
    }
   ],
   "source": [
    "#LOOK AT THE OVERALL SCORES PER CATEGORY. \n",
    "#FROM HIGHEST TO LOWEST: RETAIL FOOD MOBILE FOOD WALK ON, EATING AND DRINKING, EATING AND DRINKING W/TAKEOUT\n",
    "fig, _ = plt.subplots()\n",
    "fig.set_size_inches(15, 5)\n",
    "sns.despine()\n",
    "_ = sns.barplot(x=Cat_grade.DESCRIPT, y=Cat_grade.SCORE, palette='rocket')\n",
    "plt.xlabel(\"Category\")\n",
    "plt.ylabel(\"Score\")\n",
    "plt.title(\"Scores by category\")\n",
    "plt.show(fig)"
   ]
  },
  {
   "cell_type": "code",
   "execution_count": 35,
   "id": "03252432",
   "metadata": {},
   "outputs": [],
   "source": [
    "#EATING AND DRINKING HAD THE LOWEST SCORES, WHEREAS RETAIL FOOD HAD THE HIGHEST SCORES"
   ]
  },
  {
   "cell_type": "code",
   "execution_count": 36,
   "id": "0c787789",
   "metadata": {},
   "outputs": [
    {
     "data": {
      "text/plain": [
       "[]"
      ]
     },
     "execution_count": 36,
     "metadata": {},
     "output_type": "execute_result"
    },
    {
     "data": {
      "image/png": "[encoded data removed]",
      "text/plain": [
       "<Figure size 432x288 with 1 Axes>"
      ]
     },
     "metadata": {
      "needs_background": "light"
     },
     "output_type": "display_data"
    }
   ],
   "source": [
    "#THE TOTAL SUM OF THE POINTS THE FOOD ESTABLISHMENT RECEIVED IN  VIOLATIONS.\n",
    "#WE CAN SEE HERE THAT THE MAJORITY OF FOOD ESTABLISHMENTS RECEIVED VIOLATIONS UNDER 50 (THE MAJORITY WERE UNDER 25).\n",
    "Grades['SUM_VIOLATIONS'].hist().plot()"
   ]
  },
  {
   "cell_type": "code",
   "execution_count": 37,
   "id": "1180c5d5",
   "metadata": {},
   "outputs": [
    {
     "data": {
      "text/plain": [
       "[]"
      ]
     },
     "execution_count": 37,
     "metadata": {},
     "output_type": "execute_result"
    },
    {
     "data": {
      "image/png": "[encoded data removed]",
      "text/plain": [
       "<Figure size 432x288 with 1 Axes>"
      ]
     },
     "metadata": {
      "needs_background": "light"
     },
     "output_type": "display_data"
    }
   ],
   "source": [
    "#GET THE RAW SCORES\n",
    "#HERE WE CAN SEE THAT THE MAJORITY OF ESTABLISHMENTS ENDED UP GETTING A GOOD GRADE\n",
    "#REMEMBER SCORE=100-SUM_VIOLATIONS\n",
    "Grades['SCORE'].hist().plot()"
   ]
  },
  {
   "cell_type": "code",
   "execution_count": 38,
   "id": "53e78b6b",
   "metadata": {},
   "outputs": [
    {
     "data": {
      "text/html": [
       "<div>\n",
       "<style scoped>\n",
       "    .dataframe tbody tr th:only-of-type {\n",
       "        vertical-align: middle;\n",
       "    }\n",
       "\n",
       "    .dataframe tbody tr th {\n",
       "        vertical-align: top;\n",
       "    }\n",
       "\n",
       "    .dataframe thead th {\n",
       "        text-align: right;\n",
       "    }\n",
       "</style>\n",
       "<table border=\"1\" class=\"dataframe\">\n",
       "  <thead>\n",
       "    <tr style=\"text-align: right;\">\n",
       "      <th></th>\n",
       "      <th>Count of restaurant grade totals</th>\n",
       "    </tr>\n",
       "    <tr>\n",
       "      <th>GRADE</th>\n",
       "      <th></th>\n",
       "    </tr>\n",
       "  </thead>\n",
       "  <tbody>\n",
       "    <tr>\n",
       "      <th>A</th>\n",
       "      <td>49937</td>\n",
       "    </tr>\n",
       "    <tr>\n",
       "      <th>B</th>\n",
       "      <td>10479</td>\n",
       "    </tr>\n",
       "    <tr>\n",
       "      <th>C</th>\n",
       "      <td>11827</td>\n",
       "    </tr>\n",
       "  </tbody>\n",
       "</table>\n",
       "</div>"
      ],
      "text/plain": [
       "       Count of restaurant grade totals\n",
       "GRADE                                  \n",
       "A                                 49937\n",
       "B                                 10479\n",
       "C                                 11827"
      ]
     },
     "execution_count": 38,
     "metadata": {},
     "output_type": "execute_result"
    }
   ],
   "source": [
    "#LOOK AT THE DISTRIBUTION OF GRADES OVERALL\n",
    "#THIS FURTHER CONFIRMS THAT THE MAJORITY OF ESTABLISHMENTS GOT A GRADE OF AN A\n",
    "Grade_distribution = Grades.groupby('GRADE').size()\n",
    "pd.DataFrame({'Count of restaurant grade totals':Grade_distribution.values}, index=Grade_distribution.index)"
   ]
  },
  {
   "cell_type": "code",
   "execution_count": 39,
   "id": "2c4e613a",
   "metadata": {},
   "outputs": [
    {
     "data": {
      "text/plain": [
       "[]"
      ]
     },
     "execution_count": 39,
     "metadata": {},
     "output_type": "execute_result"
    },
    {
     "data": {
      "image/png": "[encoded data removed]",
      "text/plain": [
       "<Figure size 432x288 with 1 Axes>"
      ]
     },
     "metadata": {
      "needs_background": "light"
     },
     "output_type": "display_data"
    }
   ],
   "source": [
    "#GROUP BY ESTABLISHMENT TYPE AND COUNT # IN EACH CATEGORY\n",
    "#THEN SORT FROM HIGHEST # TO LOWEST AND CREATE A BAR GRAPH\n",
    "#THERE ARE MORE EATING AND DRINKING ESTABLISHMENTS being inspected\n",
    "temp = Grades.groupby('DESCRIPT').size()\n",
    "description_distribution = pd.DataFrame({'Count':temp.values}, index=temp.index)\n",
    "Grades['DESCRIPT'].hist().plot()"
   ]
  },
  {
   "cell_type": "code",
   "execution_count": 40,
   "id": "025ac207",
   "metadata": {},
   "outputs": [],
   "source": [
    "#EATING AND DRINKING ESTABLISHMENTS GOT THE MOST NUMBER OF INSPECTIONS AND THEY ALSO HAVE THE LOWEST OVERALL SCORES\n",
    "#FOLLOWED BY EATING AND DRINKING WITH TAKEOUT!"
   ]
  },
  {
   "cell_type": "code",
   "execution_count": 41,
   "id": "0914fbcf",
   "metadata": {},
   "outputs": [],
   "source": [
    "#Grouping and performing count over each group\n",
    "Establishments =  Grades.groupby('LICENSENO')['LICENSENO'].count()"
   ]
  },
  {
   "cell_type": "code",
   "execution_count": 42,
   "id": "807c3e4d",
   "metadata": {},
   "outputs": [
    {
     "data": {
      "text/plain": [
       "count    7558.000000\n",
       "mean        9.558481\n",
       "std         8.459523\n",
       "min         1.000000\n",
       "25%         2.000000\n",
       "50%         8.000000\n",
       "75%        15.000000\n",
       "max        54.000000\n",
       "Name: LICENSENO, dtype: float64"
      ]
     },
     "execution_count": 42,
     "metadata": {},
     "output_type": "execute_result"
    }
   ],
   "source": [
    "Establishments.describe()\n",
    "#The max number of inspections for one establishment is 54\n",
    "#The mean is 9.5\n",
    "#The min is 1"
   ]
  },
  {
   "cell_type": "code",
   "execution_count": 43,
   "id": "cef0795f",
   "metadata": {},
   "outputs": [
    {
     "data": {
      "text/plain": [
       "<seaborn.axisgrid.FacetGrid at 0x251c9fad760>"
      ]
     },
     "execution_count": 43,
     "metadata": {},
     "output_type": "execute_result"
    },
    {
     "data": {
      "image/png": "[encoded data removed]",
      "text/plain": [
       "<Figure size 360x360 with 1 Axes>"
      ]
     },
     "metadata": {
      "needs_background": "light"
     },
     "output_type": "display_data"
    }
   ],
   "source": [
    "sns.relplot(x=\"LICENSENO\", y=\"SCORE\", data=Grades)\n"
   ]
  },
  {
   "cell_type": "markdown",
   "id": "f42543cb",
   "metadata": {},
   "source": [
    "# LOOKING AT DATA FOR ESTABLISHMENTS WITH A GRADE OF C"
   ]
  },
  {
   "cell_type": "code",
   "execution_count": 44,
   "id": "3d957d69",
   "metadata": {},
   "outputs": [
    {
     "data": {
      "text/html": [
       "<div>\n",
       "<style scoped>\n",
       "    .dataframe tbody tr th:only-of-type {\n",
       "        vertical-align: middle;\n",
       "    }\n",
       "\n",
       "    .dataframe tbody tr th {\n",
       "        vertical-align: top;\n",
       "    }\n",
       "\n",
       "    .dataframe thead th {\n",
       "        text-align: right;\n",
       "    }\n",
       "</style>\n",
       "<table border=\"1\" class=\"dataframe\">\n",
       "  <thead>\n",
       "    <tr style=\"text-align: right;\">\n",
       "      <th></th>\n",
       "      <th>LICENSENO</th>\n",
       "      <th>ISSDTTM</th>\n",
       "      <th>EXPDTTM</th>\n",
       "      <th>LICSTATUS</th>\n",
       "      <th>LICENSECAT</th>\n",
       "      <th>DESCRIPT</th>\n",
       "      <th>RESULT</th>\n",
       "      <th>RESULTDTTM</th>\n",
       "      <th>SUM_VIOLATIONS</th>\n",
       "      <th>SCORE</th>\n",
       "      <th>GRADE</th>\n",
       "      <th>time_between_inspections</th>\n",
       "    </tr>\n",
       "  </thead>\n",
       "  <tbody>\n",
       "    <tr>\n",
       "      <th>8</th>\n",
       "      <td>25877</td>\n",
       "      <td>1/3/2012 14:09</td>\n",
       "      <td>12/31/2018 23:59</td>\n",
       "      <td>Active</td>\n",
       "      <td>FS</td>\n",
       "      <td>Eating &amp; Drinking</td>\n",
       "      <td>HE_Fail</td>\n",
       "      <td>2012-01-03 10:47:00</td>\n",
       "      <td>32</td>\n",
       "      <td>68</td>\n",
       "      <td>C</td>\n",
       "      <td>NaT</td>\n",
       "    </tr>\n",
       "    <tr>\n",
       "      <th>13</th>\n",
       "      <td>22999</td>\n",
       "      <td>1/25/2012 13:35</td>\n",
       "      <td>12/31/2012 23:59</td>\n",
       "      <td>Inactive</td>\n",
       "      <td>FT</td>\n",
       "      <td>Eating &amp; Drinking w/ Take Out</td>\n",
       "      <td>HE_Fail</td>\n",
       "      <td>2012-01-03 11:15:00</td>\n",
       "      <td>48</td>\n",
       "      <td>52</td>\n",
       "      <td>C</td>\n",
       "      <td>NaT</td>\n",
       "    </tr>\n",
       "    <tr>\n",
       "      <th>14</th>\n",
       "      <td>20767</td>\n",
       "      <td>12/29/2011 12:34</td>\n",
       "      <td>12/31/2018 23:59</td>\n",
       "      <td>Active</td>\n",
       "      <td>FS</td>\n",
       "      <td>Eating &amp; Drinking</td>\n",
       "      <td>HE_Fail</td>\n",
       "      <td>2012-01-03 11:17:00</td>\n",
       "      <td>26</td>\n",
       "      <td>74</td>\n",
       "      <td>C</td>\n",
       "      <td>NaT</td>\n",
       "    </tr>\n",
       "    <tr>\n",
       "      <th>17</th>\n",
       "      <td>75776</td>\n",
       "      <td>12/8/2011 11:27</td>\n",
       "      <td>12/31/2018 23:59</td>\n",
       "      <td>Active</td>\n",
       "      <td>RF</td>\n",
       "      <td>Retail Food</td>\n",
       "      <td>HE_Fail</td>\n",
       "      <td>2012-01-03 11:23:00</td>\n",
       "      <td>20</td>\n",
       "      <td>80</td>\n",
       "      <td>C</td>\n",
       "      <td>NaT</td>\n",
       "    </tr>\n",
       "    <tr>\n",
       "      <th>24</th>\n",
       "      <td>24233</td>\n",
       "      <td>12/30/2011 10:03</td>\n",
       "      <td>12/31/2018 23:59</td>\n",
       "      <td>Active</td>\n",
       "      <td>FT</td>\n",
       "      <td>Eating &amp; Drinking w/ Take Out</td>\n",
       "      <td>HE_Fail</td>\n",
       "      <td>2012-01-03 12:08:00</td>\n",
       "      <td>40</td>\n",
       "      <td>60</td>\n",
       "      <td>C</td>\n",
       "      <td>NaT</td>\n",
       "    </tr>\n",
       "  </tbody>\n",
       "</table>\n",
       "</div>"
      ],
      "text/plain": [
       "    LICENSENO           ISSDTTM           EXPDTTM LICSTATUS LICENSECAT  \\\n",
       "8       25877    1/3/2012 14:09  12/31/2018 23:59    Active         FS   \n",
       "13      22999   1/25/2012 13:35  12/31/2012 23:59  Inactive         FT   \n",
       "14      20767  12/29/2011 12:34  12/31/2018 23:59    Active         FS   \n",
       "17      75776   12/8/2011 11:27  12/31/2018 23:59    Active         RF   \n",
       "24      24233  12/30/2011 10:03  12/31/2018 23:59    Active         FT   \n",
       "\n",
       "                         DESCRIPT   RESULT          RESULTDTTM  \\\n",
       "8               Eating & Drinking  HE_Fail 2012-01-03 10:47:00   \n",
       "13  Eating & Drinking w/ Take Out  HE_Fail 2012-01-03 11:15:00   \n",
       "14              Eating & Drinking  HE_Fail 2012-01-03 11:17:00   \n",
       "17                    Retail Food  HE_Fail 2012-01-03 11:23:00   \n",
       "24  Eating & Drinking w/ Take Out  HE_Fail 2012-01-03 12:08:00   \n",
       "\n",
       "    SUM_VIOLATIONS  SCORE GRADE time_between_inspections  \n",
       "8               32     68     C                      NaT  \n",
       "13              48     52     C                      NaT  \n",
       "14              26     74     C                      NaT  \n",
       "17              20     80     C                      NaT  \n",
       "24              40     60     C                      NaT  "
      ]
     },
     "execution_count": 44,
     "metadata": {},
     "output_type": "execute_result"
    }
   ],
   "source": [
    "Grade_C = Grades[(Grades['SCORE'] <= 80)]\n",
    "Grade_C.head(5)"
   ]
  },
  {
   "cell_type": "code",
   "execution_count": 45,
   "id": "91ce0c82",
   "metadata": {},
   "outputs": [
    {
     "data": {
      "text/html": [
       "<div>\n",
       "<style scoped>\n",
       "    .dataframe tbody tr th:only-of-type {\n",
       "        vertical-align: middle;\n",
       "    }\n",
       "\n",
       "    .dataframe tbody tr th {\n",
       "        vertical-align: top;\n",
       "    }\n",
       "\n",
       "    .dataframe thead th {\n",
       "        text-align: right;\n",
       "    }\n",
       "</style>\n",
       "<table border=\"1\" class=\"dataframe\">\n",
       "  <thead>\n",
       "    <tr style=\"text-align: right;\">\n",
       "      <th></th>\n",
       "      <th>RESULT</th>\n",
       "      <th>DESCRIPT</th>\n",
       "    </tr>\n",
       "  </thead>\n",
       "  <tbody>\n",
       "    <tr>\n",
       "      <th>8</th>\n",
       "      <td>HE_Fail</td>\n",
       "      <td>Eating &amp; Drinking</td>\n",
       "    </tr>\n",
       "    <tr>\n",
       "      <th>13</th>\n",
       "      <td>HE_Fail</td>\n",
       "      <td>Eating &amp; Drinking w/ Take Out</td>\n",
       "    </tr>\n",
       "    <tr>\n",
       "      <th>14</th>\n",
       "      <td>HE_Fail</td>\n",
       "      <td>Eating &amp; Drinking</td>\n",
       "    </tr>\n",
       "    <tr>\n",
       "      <th>17</th>\n",
       "      <td>HE_Fail</td>\n",
       "      <td>Retail Food</td>\n",
       "    </tr>\n",
       "    <tr>\n",
       "      <th>24</th>\n",
       "      <td>HE_Fail</td>\n",
       "      <td>Eating &amp; Drinking w/ Take Out</td>\n",
       "    </tr>\n",
       "  </tbody>\n",
       "</table>\n",
       "</div>"
      ],
      "text/plain": [
       "     RESULT                       DESCRIPT\n",
       "8   HE_Fail              Eating & Drinking\n",
       "13  HE_Fail  Eating & Drinking w/ Take Out\n",
       "14  HE_Fail              Eating & Drinking\n",
       "17  HE_Fail                    Retail Food\n",
       "24  HE_Fail  Eating & Drinking w/ Take Out"
      ]
     },
     "execution_count": 45,
     "metadata": {},
     "output_type": "execute_result"
    }
   ],
   "source": [
    "Result_C = pd.DataFrame(Grade_C, columns=['RESULT', 'DESCRIPT'])\n",
    "Result_C.head(5)"
   ]
  },
  {
   "cell_type": "code",
   "execution_count": 46,
   "id": "94618bfb",
   "metadata": {},
   "outputs": [
    {
     "data": {
      "text/plain": [
       "(11827, 2)"
      ]
     },
     "execution_count": 46,
     "metadata": {},
     "output_type": "execute_result"
    }
   ],
   "source": [
    "Result_C.shape"
   ]
  },
  {
   "cell_type": "code",
   "execution_count": 47,
   "id": "ba0232ca",
   "metadata": {},
   "outputs": [
    {
     "name": "stdout",
     "output_type": "stream",
     "text": [
      "RESULT\n",
      "HE_Fail       10593\n",
      "HE_FailExt      439\n",
      "HE_Filed          5\n",
      "HE_Hearing      508\n",
      "HE_NotReq         1\n",
      "HE_OutBus        18\n",
      "HE_TSOP         263\n",
      "Name: RESULT, dtype: int64\n"
     ]
    }
   ],
   "source": [
    "Descriptive_Results_C =  Result_C.groupby('RESULT')['RESULT'].count()\n",
    "print(Descriptive_Results_C)"
   ]
  },
  {
   "cell_type": "code",
   "execution_count": 48,
   "id": "09c0e2c2",
   "metadata": {},
   "outputs": [
    {
     "data": {
      "text/plain": [
       "<AxesSubplot:xlabel='RESULT'>"
      ]
     },
     "execution_count": 48,
     "metadata": {},
     "output_type": "execute_result"
    },
    {
     "data": {
      "image/png": "[encoded data removed]",
      "text/plain": [
       "<Figure size 432x288 with 1 Axes>"
      ]
     },
     "metadata": {
      "needs_background": "light"
     },
     "output_type": "display_data"
    }
   ],
   "source": [
    "#OF THE ESTABLISHMENTS THAT GOT A GRADE C, THE MAJORITY OF THEM FAILED(779/881) AND 47 OF THE RE-EXTENTIONS FAILED.\n",
    "#43 OF THE ESTABLISHMENTS NEEDED A HEARING\n",
    "#9 WERE TEMPORARILY SHUT DOWN BY ORDER OF HEALTH DEPARTMENT\n",
    "Descriptive_Results_C.plot()"
   ]
  },
  {
   "cell_type": "code",
   "execution_count": 49,
   "id": "b5daff51",
   "metadata": {},
   "outputs": [
    {
     "data": {
      "text/html": [
       "<div>\n",
       "<style scoped>\n",
       "    .dataframe tbody tr th:only-of-type {\n",
       "        vertical-align: middle;\n",
       "    }\n",
       "\n",
       "    .dataframe tbody tr th {\n",
       "        vertical-align: top;\n",
       "    }\n",
       "\n",
       "    .dataframe thead th {\n",
       "        text-align: right;\n",
       "    }\n",
       "</style>\n",
       "<table border=\"1\" class=\"dataframe\">\n",
       "  <thead>\n",
       "    <tr style=\"text-align: right;\">\n",
       "      <th></th>\n",
       "      <th>LICENSENO</th>\n",
       "      <th>ISSDTTM</th>\n",
       "      <th>EXPDTTM</th>\n",
       "      <th>LICSTATUS</th>\n",
       "      <th>LICENSECAT</th>\n",
       "      <th>DESCRIPT</th>\n",
       "      <th>RESULT</th>\n",
       "      <th>RESULTDTTM</th>\n",
       "      <th>SUM_VIOLATIONS</th>\n",
       "      <th>SCORE</th>\n",
       "      <th>GRADE</th>\n",
       "      <th>time_between_inspections</th>\n",
       "    </tr>\n",
       "  </thead>\n",
       "  <tbody>\n",
       "    <tr>\n",
       "      <th>3</th>\n",
       "      <td>77035</td>\n",
       "      <td>1/26/2012 11:01</td>\n",
       "      <td>12/31/2018 23:59</td>\n",
       "      <td>Active</td>\n",
       "      <td>RF</td>\n",
       "      <td>Retail Food</td>\n",
       "      <td>HE_FailExt</td>\n",
       "      <td>2012-01-03 10:07:00</td>\n",
       "      <td>12</td>\n",
       "      <td>88</td>\n",
       "      <td>B</td>\n",
       "      <td>NaT</td>\n",
       "    </tr>\n",
       "    <tr>\n",
       "      <th>6</th>\n",
       "      <td>76109</td>\n",
       "      <td>7/19/2012 12:58</td>\n",
       "      <td>12/31/2018 23:59</td>\n",
       "      <td>Active</td>\n",
       "      <td>RF</td>\n",
       "      <td>Retail Food</td>\n",
       "      <td>HE_Fail</td>\n",
       "      <td>2012-01-03 10:44:00</td>\n",
       "      <td>16</td>\n",
       "      <td>84</td>\n",
       "      <td>B</td>\n",
       "      <td>NaT</td>\n",
       "    </tr>\n",
       "    <tr>\n",
       "      <th>11</th>\n",
       "      <td>21466</td>\n",
       "      <td>2/6/2012 13:35</td>\n",
       "      <td>12/31/2018 23:59</td>\n",
       "      <td>Active</td>\n",
       "      <td>FT</td>\n",
       "      <td>Eating &amp; Drinking w/ Take Out</td>\n",
       "      <td>HE_Fail</td>\n",
       "      <td>2012-01-03 10:53:00</td>\n",
       "      <td>8</td>\n",
       "      <td>92</td>\n",
       "      <td>B</td>\n",
       "      <td>NaT</td>\n",
       "    </tr>\n",
       "    <tr>\n",
       "      <th>12</th>\n",
       "      <td>23261</td>\n",
       "      <td>1/11/2012 13:58</td>\n",
       "      <td>12/31/2018 23:59</td>\n",
       "      <td>Active</td>\n",
       "      <td>RF</td>\n",
       "      <td>Retail Food</td>\n",
       "      <td>HE_Fail</td>\n",
       "      <td>2012-01-03 11:05:00</td>\n",
       "      <td>14</td>\n",
       "      <td>86</td>\n",
       "      <td>B</td>\n",
       "      <td>NaT</td>\n",
       "    </tr>\n",
       "    <tr>\n",
       "      <th>16</th>\n",
       "      <td>26632</td>\n",
       "      <td>2/6/2012 15:00</td>\n",
       "      <td>12/31/2018 23:59</td>\n",
       "      <td>Active</td>\n",
       "      <td>FT</td>\n",
       "      <td>Eating &amp; Drinking w/ Take Out</td>\n",
       "      <td>HE_Fail</td>\n",
       "      <td>2012-01-03 11:22:00</td>\n",
       "      <td>10</td>\n",
       "      <td>90</td>\n",
       "      <td>B</td>\n",
       "      <td>NaT</td>\n",
       "    </tr>\n",
       "  </tbody>\n",
       "</table>\n",
       "</div>"
      ],
      "text/plain": [
       "    LICENSENO          ISSDTTM           EXPDTTM LICSTATUS LICENSECAT  \\\n",
       "3       77035  1/26/2012 11:01  12/31/2018 23:59    Active         RF   \n",
       "6       76109  7/19/2012 12:58  12/31/2018 23:59    Active         RF   \n",
       "11      21466   2/6/2012 13:35  12/31/2018 23:59    Active         FT   \n",
       "12      23261  1/11/2012 13:58  12/31/2018 23:59    Active         RF   \n",
       "16      26632   2/6/2012 15:00  12/31/2018 23:59    Active         FT   \n",
       "\n",
       "                         DESCRIPT      RESULT          RESULTDTTM  \\\n",
       "3                     Retail Food  HE_FailExt 2012-01-03 10:07:00   \n",
       "6                     Retail Food     HE_Fail 2012-01-03 10:44:00   \n",
       "11  Eating & Drinking w/ Take Out     HE_Fail 2012-01-03 10:53:00   \n",
       "12                    Retail Food     HE_Fail 2012-01-03 11:05:00   \n",
       "16  Eating & Drinking w/ Take Out     HE_Fail 2012-01-03 11:22:00   \n",
       "\n",
       "    SUM_VIOLATIONS  SCORE GRADE time_between_inspections  \n",
       "3               12     88     B                      NaT  \n",
       "6               16     84     B                      NaT  \n",
       "11               8     92     B                      NaT  \n",
       "12              14     86     B                      NaT  \n",
       "16              10     90     B                      NaT  "
      ]
     },
     "execution_count": 49,
     "metadata": {},
     "output_type": "execute_result"
    }
   ],
   "source": [
    "Grade_B = Grades[(Grades['SCORE'] >= 81)\n",
    "                        & (Grades['SCORE'] < 93)]\n",
    "Grade_B.head(5)"
   ]
  },
  {
   "cell_type": "code",
   "execution_count": 50,
   "id": "2cb4d652",
   "metadata": {},
   "outputs": [
    {
     "data": {
      "text/html": [
       "<div>\n",
       "<style scoped>\n",
       "    .dataframe tbody tr th:only-of-type {\n",
       "        vertical-align: middle;\n",
       "    }\n",
       "\n",
       "    .dataframe tbody tr th {\n",
       "        vertical-align: top;\n",
       "    }\n",
       "\n",
       "    .dataframe thead th {\n",
       "        text-align: right;\n",
       "    }\n",
       "</style>\n",
       "<table border=\"1\" class=\"dataframe\">\n",
       "  <thead>\n",
       "    <tr style=\"text-align: right;\">\n",
       "      <th></th>\n",
       "      <th>RESULT</th>\n",
       "      <th>DESCRIPT</th>\n",
       "    </tr>\n",
       "  </thead>\n",
       "  <tbody>\n",
       "    <tr>\n",
       "      <th>3</th>\n",
       "      <td>HE_FailExt</td>\n",
       "      <td>Retail Food</td>\n",
       "    </tr>\n",
       "    <tr>\n",
       "      <th>6</th>\n",
       "      <td>HE_Fail</td>\n",
       "      <td>Retail Food</td>\n",
       "    </tr>\n",
       "    <tr>\n",
       "      <th>11</th>\n",
       "      <td>HE_Fail</td>\n",
       "      <td>Eating &amp; Drinking w/ Take Out</td>\n",
       "    </tr>\n",
       "    <tr>\n",
       "      <th>12</th>\n",
       "      <td>HE_Fail</td>\n",
       "      <td>Retail Food</td>\n",
       "    </tr>\n",
       "    <tr>\n",
       "      <th>16</th>\n",
       "      <td>HE_Fail</td>\n",
       "      <td>Eating &amp; Drinking w/ Take Out</td>\n",
       "    </tr>\n",
       "  </tbody>\n",
       "</table>\n",
       "</div>"
      ],
      "text/plain": [
       "        RESULT                       DESCRIPT\n",
       "3   HE_FailExt                    Retail Food\n",
       "6      HE_Fail                    Retail Food\n",
       "11     HE_Fail  Eating & Drinking w/ Take Out\n",
       "12     HE_Fail                    Retail Food\n",
       "16     HE_Fail  Eating & Drinking w/ Take Out"
      ]
     },
     "execution_count": 50,
     "metadata": {},
     "output_type": "execute_result"
    }
   ],
   "source": [
    "Result_B = pd.DataFrame(Grade_B, columns=['RESULT', 'DESCRIPT'])\n",
    "Result_B.head(5)"
   ]
  },
  {
   "cell_type": "code",
   "execution_count": 51,
   "id": "a2e0c60b",
   "metadata": {},
   "outputs": [
    {
     "name": "stdout",
     "output_type": "stream",
     "text": [
      "RESULT\n",
      "HE_Fail       8287\n",
      "HE_FailExt    1070\n",
      "HE_Filed       191\n",
      "HE_Hearing     578\n",
      "HE_NotReq        2\n",
      "HE_OutBus       12\n",
      "HE_Pass          1\n",
      "HE_TSOP        105\n",
      "Name: RESULT, dtype: int64\n"
     ]
    }
   ],
   "source": [
    "Descriptive_Results_B =  Result_B.groupby('RESULT')['RESULT'].count()\n",
    "print(Descriptive_Results_B)"
   ]
  },
  {
   "cell_type": "code",
   "execution_count": 52,
   "id": "c18eb093",
   "metadata": {},
   "outputs": [
    {
     "data": {
      "text/plain": [
       "<AxesSubplot:xlabel='RESULT'>"
      ]
     },
     "execution_count": 52,
     "metadata": {},
     "output_type": "execute_result"
    },
    {
     "data": {
      "image/png": "[encoded data removed]",
      "text/plain": [
       "<Figure size 432x288 with 1 Axes>"
      ]
     },
     "metadata": {
      "needs_background": "light"
     },
     "output_type": "display_data"
    }
   ],
   "source": [
    "Descriptive_Results_B.plot()"
   ]
  },
  {
   "cell_type": "code",
   "execution_count": 53,
   "id": "69b9bfac",
   "metadata": {},
   "outputs": [
    {
     "data": {
      "text/html": [
       "<div>\n",
       "<style scoped>\n",
       "    .dataframe tbody tr th:only-of-type {\n",
       "        vertical-align: middle;\n",
       "    }\n",
       "\n",
       "    .dataframe tbody tr th {\n",
       "        vertical-align: top;\n",
       "    }\n",
       "\n",
       "    .dataframe thead th {\n",
       "        text-align: right;\n",
       "    }\n",
       "</style>\n",
       "<table border=\"1\" class=\"dataframe\">\n",
       "  <thead>\n",
       "    <tr style=\"text-align: right;\">\n",
       "      <th></th>\n",
       "      <th>LICENSENO</th>\n",
       "      <th>ISSDTTM</th>\n",
       "      <th>EXPDTTM</th>\n",
       "      <th>LICSTATUS</th>\n",
       "      <th>LICENSECAT</th>\n",
       "      <th>DESCRIPT</th>\n",
       "      <th>RESULT</th>\n",
       "      <th>RESULTDTTM</th>\n",
       "      <th>SUM_VIOLATIONS</th>\n",
       "      <th>SCORE</th>\n",
       "      <th>GRADE</th>\n",
       "      <th>time_between_inspections</th>\n",
       "    </tr>\n",
       "  </thead>\n",
       "  <tbody>\n",
       "    <tr>\n",
       "      <th>0</th>\n",
       "      <td>77958</td>\n",
       "      <td>3/14/2012 9:17</td>\n",
       "      <td>12/31/2012 23:59</td>\n",
       "      <td>Inactive</td>\n",
       "      <td>FT</td>\n",
       "      <td>Eating &amp; Drinking w/ Take Out</td>\n",
       "      <td>HE_Pass</td>\n",
       "      <td>2012-01-03 07:26:00</td>\n",
       "      <td>0</td>\n",
       "      <td>100</td>\n",
       "      <td>A</td>\n",
       "      <td>NaT</td>\n",
       "    </tr>\n",
       "    <tr>\n",
       "      <th>1</th>\n",
       "      <td>74470</td>\n",
       "      <td>2/1/2012 12:29</td>\n",
       "      <td>12/31/2018 23:59</td>\n",
       "      <td>Active</td>\n",
       "      <td>FS</td>\n",
       "      <td>Eating &amp; Drinking</td>\n",
       "      <td>HE_Filed</td>\n",
       "      <td>2012-01-03 09:42:00</td>\n",
       "      <td>6</td>\n",
       "      <td>94</td>\n",
       "      <td>A</td>\n",
       "      <td>NaT</td>\n",
       "    </tr>\n",
       "    <tr>\n",
       "      <th>2</th>\n",
       "      <td>18086</td>\n",
       "      <td>12/27/2011 12:46</td>\n",
       "      <td>12/31/2011 23:59</td>\n",
       "      <td>Inactive</td>\n",
       "      <td>RF</td>\n",
       "      <td>Retail Food</td>\n",
       "      <td>HE_Fail</td>\n",
       "      <td>2012-01-03 10:06:00</td>\n",
       "      <td>6</td>\n",
       "      <td>94</td>\n",
       "      <td>A</td>\n",
       "      <td>NaT</td>\n",
       "    </tr>\n",
       "    <tr>\n",
       "      <th>4</th>\n",
       "      <td>20285</td>\n",
       "      <td>2/24/2012 14:46</td>\n",
       "      <td>12/31/2018 23:59</td>\n",
       "      <td>Active</td>\n",
       "      <td>FS</td>\n",
       "      <td>Eating &amp; Drinking</td>\n",
       "      <td>HE_Filed</td>\n",
       "      <td>2012-01-03 10:32:00</td>\n",
       "      <td>2</td>\n",
       "      <td>98</td>\n",
       "      <td>A</td>\n",
       "      <td>NaT</td>\n",
       "    </tr>\n",
       "    <tr>\n",
       "      <th>5</th>\n",
       "      <td>18111</td>\n",
       "      <td>5/11/2012 10:10</td>\n",
       "      <td>12/31/2012 23:59</td>\n",
       "      <td>Inactive</td>\n",
       "      <td>RF</td>\n",
       "      <td>Retail Food</td>\n",
       "      <td>HE_Filed</td>\n",
       "      <td>2012-01-03 10:37:00</td>\n",
       "      <td>2</td>\n",
       "      <td>98</td>\n",
       "      <td>A</td>\n",
       "      <td>NaT</td>\n",
       "    </tr>\n",
       "  </tbody>\n",
       "</table>\n",
       "</div>"
      ],
      "text/plain": [
       "   LICENSENO           ISSDTTM           EXPDTTM LICSTATUS LICENSECAT  \\\n",
       "0      77958    3/14/2012 9:17  12/31/2012 23:59  Inactive         FT   \n",
       "1      74470    2/1/2012 12:29  12/31/2018 23:59    Active         FS   \n",
       "2      18086  12/27/2011 12:46  12/31/2011 23:59  Inactive         RF   \n",
       "4      20285   2/24/2012 14:46  12/31/2018 23:59    Active         FS   \n",
       "5      18111   5/11/2012 10:10  12/31/2012 23:59  Inactive         RF   \n",
       "\n",
       "                        DESCRIPT    RESULT          RESULTDTTM  \\\n",
       "0  Eating & Drinking w/ Take Out   HE_Pass 2012-01-03 07:26:00   \n",
       "1              Eating & Drinking  HE_Filed 2012-01-03 09:42:00   \n",
       "2                    Retail Food   HE_Fail 2012-01-03 10:06:00   \n",
       "4              Eating & Drinking  HE_Filed 2012-01-03 10:32:00   \n",
       "5                    Retail Food  HE_Filed 2012-01-03 10:37:00   \n",
       "\n",
       "   SUM_VIOLATIONS  SCORE GRADE time_between_inspections  \n",
       "0               0    100     A                      NaT  \n",
       "1               6     94     A                      NaT  \n",
       "2               6     94     A                      NaT  \n",
       "4               2     98     A                      NaT  \n",
       "5               2     98     A                      NaT  "
      ]
     },
     "execution_count": 53,
     "metadata": {},
     "output_type": "execute_result"
    }
   ],
   "source": [
    "Grade_A = Grades[(Grades['SCORE'] >= 94)]              \n",
    "Grade_A.head(5)\n"
   ]
  },
  {
   "cell_type": "code",
   "execution_count": 54,
   "id": "a2db6fdf",
   "metadata": {},
   "outputs": [
    {
     "data": {
      "text/html": [
       "<div>\n",
       "<style scoped>\n",
       "    .dataframe tbody tr th:only-of-type {\n",
       "        vertical-align: middle;\n",
       "    }\n",
       "\n",
       "    .dataframe tbody tr th {\n",
       "        vertical-align: top;\n",
       "    }\n",
       "\n",
       "    .dataframe thead th {\n",
       "        text-align: right;\n",
       "    }\n",
       "</style>\n",
       "<table border=\"1\" class=\"dataframe\">\n",
       "  <thead>\n",
       "    <tr style=\"text-align: right;\">\n",
       "      <th></th>\n",
       "      <th>RESULT</th>\n",
       "      <th>DESCRIPT</th>\n",
       "    </tr>\n",
       "  </thead>\n",
       "  <tbody>\n",
       "    <tr>\n",
       "      <th>0</th>\n",
       "      <td>HE_Pass</td>\n",
       "      <td>Eating &amp; Drinking w/ Take Out</td>\n",
       "    </tr>\n",
       "    <tr>\n",
       "      <th>1</th>\n",
       "      <td>HE_Filed</td>\n",
       "      <td>Eating &amp; Drinking</td>\n",
       "    </tr>\n",
       "    <tr>\n",
       "      <th>2</th>\n",
       "      <td>HE_Fail</td>\n",
       "      <td>Retail Food</td>\n",
       "    </tr>\n",
       "    <tr>\n",
       "      <th>4</th>\n",
       "      <td>HE_Filed</td>\n",
       "      <td>Eating &amp; Drinking</td>\n",
       "    </tr>\n",
       "    <tr>\n",
       "      <th>5</th>\n",
       "      <td>HE_Filed</td>\n",
       "      <td>Retail Food</td>\n",
       "    </tr>\n",
       "  </tbody>\n",
       "</table>\n",
       "</div>"
      ],
      "text/plain": [
       "     RESULT                       DESCRIPT\n",
       "0   HE_Pass  Eating & Drinking w/ Take Out\n",
       "1  HE_Filed              Eating & Drinking\n",
       "2   HE_Fail                    Retail Food\n",
       "4  HE_Filed              Eating & Drinking\n",
       "5  HE_Filed                    Retail Food"
      ]
     },
     "execution_count": 54,
     "metadata": {},
     "output_type": "execute_result"
    }
   ],
   "source": [
    "Result_A = pd.DataFrame(Grade_A, columns=['RESULT', 'DESCRIPT'])\n",
    "Result_A.head(5)\n"
   ]
  },
  {
   "cell_type": "code",
   "execution_count": 55,
   "id": "7a08ab73",
   "metadata": {},
   "outputs": [
    {
     "name": "stdout",
     "output_type": "stream",
     "text": [
      "RESULT\n",
      "HE_Fail        2405\n",
      "HE_FailExt     1476\n",
      "HE_Filed       9295\n",
      "HE_Hearing      306\n",
      "HE_NotReq      7259\n",
      "HE_OutBus       290\n",
      "HE_Pass       28827\n",
      "HE_TSOP          79\n",
      "Name: RESULT, dtype: int64\n"
     ]
    }
   ],
   "source": [
    "Descriptive_Results_A =  Result_A.groupby('RESULT')['RESULT'].count()\n",
    "print(Descriptive_Results_A)\n"
   ]
  },
  {
   "cell_type": "code",
   "execution_count": 56,
   "id": "9879072a",
   "metadata": {},
   "outputs": [
    {
     "data": {
      "text/plain": [
       "<AxesSubplot:xlabel='RESULT'>"
      ]
     },
     "execution_count": 56,
     "metadata": {},
     "output_type": "execute_result"
    },
    {
     "data": {
      "image/png": "[encoded data removed]",
      "text/plain": [
       "<Figure size 432x288 with 1 Axes>"
      ]
     },
     "metadata": {
      "needs_background": "light"
     },
     "output_type": "display_data"
    }
   ],
   "source": [
    "Descriptive_Results_A.plot()"
   ]
  },
  {
   "cell_type": "markdown",
   "id": "7051ba0e",
   "metadata": {},
   "source": [
    "# FILTERING FOR 2018"
   ]
  },
  {
   "cell_type": "code",
   "execution_count": 57,
   "id": "ed8e72de",
   "metadata": {},
   "outputs": [
    {
     "name": "stdout",
     "output_type": "stream",
     "text": [
      "<class 'pandas.core.frame.DataFrame'>\n",
      "Int64Index: 72243 entries, 0 to 72242\n",
      "Data columns (total 12 columns):\n",
      " #   Column                    Non-Null Count  Dtype          \n",
      "---  ------                    --------------  -----          \n",
      " 0   LICENSENO                 72243 non-null  int64          \n",
      " 1   ISSDTTM                   72243 non-null  object         \n",
      " 2   EXPDTTM                   72243 non-null  object         \n",
      " 3   LICSTATUS                 72243 non-null  object         \n",
      " 4   LICENSECAT                72243 non-null  object         \n",
      " 5   DESCRIPT                  72243 non-null  object         \n",
      " 6   RESULT                    72243 non-null  object         \n",
      " 7   RESULTDTTM                72243 non-null  datetime64[ns] \n",
      " 8   SUM_VIOLATIONS            72243 non-null  int64          \n",
      " 9   SCORE                     72243 non-null  int64          \n",
      " 10  GRADE                     72243 non-null  object         \n",
      " 11  time_between_inspections  64685 non-null  timedelta64[ns]\n",
      "dtypes: datetime64[ns](1), int64(3), object(7), timedelta64[ns](1)\n",
      "memory usage: 9.2+ MB\n"
     ]
    }
   ],
   "source": [
    "\n",
    "Grades.info()"
   ]
  },
  {
   "cell_type": "code",
   "execution_count": 58,
   "id": "0a9b14e5",
   "metadata": {},
   "outputs": [
    {
     "data": {
      "text/plain": [
       "(72243, 12)"
      ]
     },
     "execution_count": 58,
     "metadata": {},
     "output_type": "execute_result"
    }
   ],
   "source": [
    "Grades.shape"
   ]
  },
  {
   "cell_type": "code",
   "execution_count": 60,
   "id": "89dc60fd",
   "metadata": {},
   "outputs": [
    {
     "data": {
      "text/html": [
       "<div>\n",
       "<style scoped>\n",
       "    .dataframe tbody tr th:only-of-type {\n",
       "        vertical-align: middle;\n",
       "    }\n",
       "\n",
       "    .dataframe tbody tr th {\n",
       "        vertical-align: top;\n",
       "    }\n",
       "\n",
       "    .dataframe thead th {\n",
       "        text-align: right;\n",
       "    }\n",
       "</style>\n",
       "<table border=\"1\" class=\"dataframe\">\n",
       "  <thead>\n",
       "    <tr style=\"text-align: right;\">\n",
       "      <th></th>\n",
       "      <th>LICENSENO</th>\n",
       "      <th>ISSDTTM</th>\n",
       "      <th>EXPDTTM</th>\n",
       "      <th>LICSTATUS</th>\n",
       "      <th>LICENSECAT</th>\n",
       "      <th>DESCRIPT</th>\n",
       "      <th>RESULT</th>\n",
       "      <th>RESULTDTTM</th>\n",
       "      <th>SUM_VIOLATIONS</th>\n",
       "      <th>SCORE</th>\n",
       "      <th>GRADE</th>\n",
       "      <th>time_between_inspections</th>\n",
       "    </tr>\n",
       "  </thead>\n",
       "  <tbody>\n",
       "    <tr>\n",
       "      <th>72070</th>\n",
       "      <td>21898</td>\n",
       "      <td>1/3/2012 13:57</td>\n",
       "      <td>12/31/2018 23:59</td>\n",
       "      <td>Active</td>\n",
       "      <td>FS</td>\n",
       "      <td>Eating &amp; Drinking</td>\n",
       "      <td>HE_Filed</td>\n",
       "      <td>2018-06-23 08:03:00</td>\n",
       "      <td>2</td>\n",
       "      <td>98</td>\n",
       "      <td>A</td>\n",
       "      <td>11 days 22:43:00</td>\n",
       "    </tr>\n",
       "    <tr>\n",
       "      <th>72071</th>\n",
       "      <td>332685</td>\n",
       "      <td>1/16/2018 9:00</td>\n",
       "      <td>12/31/2018 23:59</td>\n",
       "      <td>Active</td>\n",
       "      <td>MFW</td>\n",
       "      <td>Mobile Food Walk On</td>\n",
       "      <td>HE_Pass</td>\n",
       "      <td>2018-06-23 10:53:00</td>\n",
       "      <td>0</td>\n",
       "      <td>100</td>\n",
       "      <td>A</td>\n",
       "      <td>59 days 23:27:00</td>\n",
       "    </tr>\n",
       "    <tr>\n",
       "      <th>72072</th>\n",
       "      <td>346939</td>\n",
       "      <td>10/27/2017 8:01</td>\n",
       "      <td>12/31/2018 23:59</td>\n",
       "      <td>Active</td>\n",
       "      <td>RF</td>\n",
       "      <td>Retail Food</td>\n",
       "      <td>HE_Pass</td>\n",
       "      <td>2018-06-25 09:37:00</td>\n",
       "      <td>0</td>\n",
       "      <td>100</td>\n",
       "      <td>A</td>\n",
       "      <td>185 days 20:24:00</td>\n",
       "    </tr>\n",
       "    <tr>\n",
       "      <th>72073</th>\n",
       "      <td>79244</td>\n",
       "      <td>2/1/2013 8:49</td>\n",
       "      <td>12/31/2018 23:59</td>\n",
       "      <td>Active</td>\n",
       "      <td>FS</td>\n",
       "      <td>Eating &amp; Drinking</td>\n",
       "      <td>HE_Pass</td>\n",
       "      <td>2018-06-25 10:34:00</td>\n",
       "      <td>0</td>\n",
       "      <td>100</td>\n",
       "      <td>A</td>\n",
       "      <td>475 days 02:21:00</td>\n",
       "    </tr>\n",
       "    <tr>\n",
       "      <th>72074</th>\n",
       "      <td>25780</td>\n",
       "      <td>2/15/2012 15:29</td>\n",
       "      <td>12/31/2018 23:59</td>\n",
       "      <td>Active</td>\n",
       "      <td>RF</td>\n",
       "      <td>Retail Food</td>\n",
       "      <td>HE_Pass</td>\n",
       "      <td>2018-06-25 10:52:00</td>\n",
       "      <td>0</td>\n",
       "      <td>100</td>\n",
       "      <td>A</td>\n",
       "      <td>3 days 23:36:00</td>\n",
       "    </tr>\n",
       "  </tbody>\n",
       "</table>\n",
       "</div>"
      ],
      "text/plain": [
       "       LICENSENO          ISSDTTM           EXPDTTM LICSTATUS LICENSECAT  \\\n",
       "72070      21898   1/3/2012 13:57  12/31/2018 23:59    Active         FS   \n",
       "72071     332685   1/16/2018 9:00  12/31/2018 23:59    Active        MFW   \n",
       "72072     346939  10/27/2017 8:01  12/31/2018 23:59    Active         RF   \n",
       "72073      79244    2/1/2013 8:49  12/31/2018 23:59    Active         FS   \n",
       "72074      25780  2/15/2012 15:29  12/31/2018 23:59    Active         RF   \n",
       "\n",
       "                  DESCRIPT    RESULT          RESULTDTTM  SUM_VIOLATIONS  \\\n",
       "72070    Eating & Drinking  HE_Filed 2018-06-23 08:03:00               2   \n",
       "72071  Mobile Food Walk On   HE_Pass 2018-06-23 10:53:00               0   \n",
       "72072          Retail Food   HE_Pass 2018-06-25 09:37:00               0   \n",
       "72073    Eating & Drinking   HE_Pass 2018-06-25 10:34:00               0   \n",
       "72074          Retail Food   HE_Pass 2018-06-25 10:52:00               0   \n",
       "\n",
       "       SCORE GRADE time_between_inspections  \n",
       "72070     98     A         11 days 22:43:00  \n",
       "72071    100     A         59 days 23:27:00  \n",
       "72072    100     A        185 days 20:24:00  \n",
       "72073    100     A        475 days 02:21:00  \n",
       "72074    100     A          3 days 23:36:00  "
      ]
     },
     "execution_count": 60,
     "metadata": {},
     "output_type": "execute_result"
    }
   ],
   "source": [
    "Grades2018 = Grades.loc[(Grades['RESULTDTTM'] >= '2018-06-23')\n",
    "                        & (Grades['RESULTDTTM'] < '2018-06-30')]\n",
    "Grades2018.head(5)\n"
   ]
  },
  {
   "cell_type": "code",
   "execution_count": 61,
   "id": "88b35e16",
   "metadata": {},
   "outputs": [
    {
     "data": {
      "text/html": [
       "<div>\n",
       "<style scoped>\n",
       "    .dataframe tbody tr th:only-of-type {\n",
       "        vertical-align: middle;\n",
       "    }\n",
       "\n",
       "    .dataframe tbody tr th {\n",
       "        vertical-align: top;\n",
       "    }\n",
       "\n",
       "    .dataframe thead th {\n",
       "        text-align: right;\n",
       "    }\n",
       "</style>\n",
       "<table border=\"1\" class=\"dataframe\">\n",
       "  <thead>\n",
       "    <tr style=\"text-align: right;\">\n",
       "      <th></th>\n",
       "      <th>RESULTDTTM</th>\n",
       "      <th>SCORE</th>\n",
       "    </tr>\n",
       "  </thead>\n",
       "  <tbody>\n",
       "    <tr>\n",
       "      <th>72070</th>\n",
       "      <td>2018-06-23 08:03:00</td>\n",
       "      <td>98</td>\n",
       "    </tr>\n",
       "    <tr>\n",
       "      <th>72071</th>\n",
       "      <td>2018-06-23 10:53:00</td>\n",
       "      <td>100</td>\n",
       "    </tr>\n",
       "    <tr>\n",
       "      <th>72072</th>\n",
       "      <td>2018-06-25 09:37:00</td>\n",
       "      <td>100</td>\n",
       "    </tr>\n",
       "    <tr>\n",
       "      <th>72073</th>\n",
       "      <td>2018-06-25 10:34:00</td>\n",
       "      <td>100</td>\n",
       "    </tr>\n",
       "    <tr>\n",
       "      <th>72074</th>\n",
       "      <td>2018-06-25 10:52:00</td>\n",
       "      <td>100</td>\n",
       "    </tr>\n",
       "  </tbody>\n",
       "</table>\n",
       "</div>"
      ],
      "text/plain": [
       "               RESULTDTTM  SCORE\n",
       "72070 2018-06-23 08:03:00     98\n",
       "72071 2018-06-23 10:53:00    100\n",
       "72072 2018-06-25 09:37:00    100\n",
       "72073 2018-06-25 10:34:00    100\n",
       "72074 2018-06-25 10:52:00    100"
      ]
     },
     "execution_count": 61,
     "metadata": {},
     "output_type": "execute_result"
    }
   ],
   "source": [
    "Grades_june2018 = pd.DataFrame(Grades2018, columns=['RESULTDTTM', 'SCORE'])\n",
    "Grades_june2018.head(5)"
   ]
  },
  {
   "cell_type": "code",
   "execution_count": 62,
   "id": "8009d7b1",
   "metadata": {},
   "outputs": [
    {
     "data": {
      "text/plain": [
       "(173, 12)"
      ]
     },
     "execution_count": 62,
     "metadata": {},
     "output_type": "execute_result"
    }
   ],
   "source": [
    "Grades2018.shape"
   ]
  },
  {
   "cell_type": "code",
   "execution_count": 63,
   "id": "01738dcf",
   "metadata": {},
   "outputs": [],
   "source": [
    "Grades_june2018 = pd.DataFrame(Grades2018, columns=['SCORE', 'SUM_VIOLATIONS'])"
   ]
  },
  {
   "cell_type": "code",
   "execution_count": 64,
   "id": "4f05d533",
   "metadata": {},
   "outputs": [
    {
     "data": {
      "text/plain": [
       "<AxesSubplot:>"
      ]
     },
     "execution_count": 64,
     "metadata": {},
     "output_type": "execute_result"
    },
    {
     "data": {
      "image/png": "[encoded data removed]",
      "text/plain": [
       "<Figure size 432x288 with 1 Axes>"
      ]
     },
     "metadata": {
      "needs_background": "light"
     },
     "output_type": "display_data"
    }
   ],
   "source": [
    "#HERE, I TRIED TO MAKE A PLOT GRAPH USING THE DATA OF JUNE 2018 BY DAY. \n",
    "#THERE WERE A TOTAL OF 173 INSPECTIONS DURING THIS TIME FRAME.\n",
    "#I TRIED TO HAVE THE X-AXIS ORDERED BY DATE, BUT COULD NOT FIGURE OUT HOW TO MAKE IT WORK.\n",
    "#I WOULD HAVE LOOKED AT SEASONALITY AND TREND OVER SEVERAL YEARS BUT AN ERROR MESSAGE KEPT COMING UP SAYING THAT THE DATA WAS TOO LARGE.\n",
    "Grades_june2018.plot()"
   ]
  }
 ],
 "metadata": {
  "kernelspec": {
   "display_name": "Python 3",
   "language": "python",
   "name": "python3"
  },
  "language_info": {
   "codemirror_mode": {
    "name": "ipython",
    "version": 3
   },
   "file_extension": ".py",
   "mimetype": "text/x-python",
   "name": "python",
   "nbconvert_exporter": "python",
   "pygments_lexer": "ipython3",
   "version": "3.8.8"
  }
 },
 "nbformat": 4,
 "nbformat_minor": 5
}
